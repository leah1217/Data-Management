{
 "cells": [
  {
   "cell_type": "markdown",
   "metadata": {},
   "source": [
    "# FINAL PROJECT - BANA 4143 TEAM 5\n",
    "## Analysis"
   ]
  },
  {
   "cell_type": "markdown",
   "metadata": {},
   "source": [
    "### Team members:\n",
    "   * Kevin McDonald\n",
    "   * Hsinke Ku\n",
    "   * Leah Ngan Lai\n",
    "   * Thomas Lyons\n",
    "   * Zachary Harvey\n",
    "### Analysis Contents:\n",
    "* 3.1. Import data\n",
    "* 3.2. Population and GDP per Capita\n",
    "* 3.3. Medals won and contries\n",
    "* 3.4. Medals by Gender and Olympics seasons"
   ]
  },
  {
   "cell_type": "code",
   "execution_count": null,
   "metadata": {},
   "outputs": [],
   "source": [
    "import numpy as np\n",
    "import pandas as pd\n",
    "import seaborn as sns\n",
    "import matplotlib as mpl\n",
    "import matplotlib.pyplot as plt\n",
    "import matplotlib.gridspec as gridspec"
   ]
  },
  {
   "cell_type": "code",
   "execution_count": null,
   "metadata": {},
   "outputs": [],
   "source": [
    "from IPython.core.interactiveshell import InteractiveShell\n",
    "InteractiveShell.ast_node_interactivity = \"all\""
   ]
  },
  {
   "cell_type": "markdown",
   "metadata": {},
   "source": [
    "### 3.1. First, we need to import our data."
   ]
  },
  {
   "cell_type": "code",
   "execution_count": null,
   "metadata": {},
   "outputs": [],
   "source": [
    "olympics = pd.read_csv('olympic_medals.csv')\n",
    "#reading in the dataframe\n",
    "olympics.head()\n",
    "olympics.tail()\n",
    "#checking first & last rows to make sure dataframe are read correctly"
   ]
  },
  {
   "cell_type": "markdown",
   "metadata": {},
   "source": [
    "### 3.2. We will begin by visualizing the relationship between Population and GDP per Capita"
   ]
  },
  {
   "cell_type": "markdown",
   "metadata": {},
   "source": [
    "Before we visualize this relationship, it would be a good idea to run some general summary statistics."
   ]
  },
  {
   "cell_type": "code",
   "execution_count": null,
   "metadata": {},
   "outputs": [],
   "source": [
    "olympics.agg({'Population': ['min',\n",
    "                             'max',\n",
    "                             'median',\n",
    "                             'mean',\n",
    "                             'skew'],\n",
    "              'GDP per Capita': ['min',\n",
    "                                 'max',\n",
    "                                 'median',\n",
    "                                 'mean',\n",
    "                                 'skew']})\n",
    "#summary statistics for Population and GDP per Capita \n",
    "#gives us a general idea of these two variables"
   ]
  },
  {
   "cell_type": "code",
   "execution_count": null,
   "metadata": {},
   "outputs": [],
   "source": [
    "sns.relplot(x = 'Population',\n",
    "            y = 'GDP per Capita',\n",
    "            data = olympics)\n",
    "#creating a scatterplot of Population vs. GDP per Capita"
   ]
  },
  {
   "cell_type": "markdown",
   "metadata": {},
   "source": [
    "It is difficult to see any relationships due to 2 outlier countries\n",
    "with large populations.\n",
    "We will filter these out, and re-create the visualization."
   ]
  },
  {
   "cell_type": "code",
   "execution_count": null,
   "metadata": {},
   "outputs": [],
   "source": [
    "olympics2 = olympics[(olympics.Population < 1200000000)]\n",
    "#filtering populations less than 1,200,000,000\n",
    "sns.relplot(x = 'Population',\n",
    "            y = 'GDP per Capita',\n",
    "            data = olympics2)"
   ]
  },
  {
   "cell_type": "markdown",
   "metadata": {},
   "source": [
    "The large majority of the countries in the olympics data set have populations below 50,000,000. We will re-create the filter: one group of countries with populations below 50,000,000, and one group of countries above 50,000,000.\n",
    "Then, we will graph the relationship between Population and GDP per Capita for both groups and observe if there are similar trends."
   ]
  },
  {
   "cell_type": "code",
   "execution_count": null,
   "metadata": {},
   "outputs": [],
   "source": [
    "olympics_lower = olympics[(olympics.Population < 50000000)]\n",
    "#filtering below 50,000,000\n",
    "olympics_greater = olympics[(olympics.Population >= 50000000)]\n",
    "#filtering above 50,000,000\n",
    "\n",
    "sns.relplot(x = 'Population',\n",
    "            y = 'GDP per Capita',\n",
    "            data = olympics_lower)\n",
    "sns.relplot(x = 'Population',\n",
    "            y = 'GDP per Capita',\n",
    "            data = olympics_greater,\n",
    "            hue = 'Country')\n",
    "#adding a legend to list countries by color in this plot"
   ]
  },
  {
   "cell_type": "markdown",
   "metadata": {},
   "source": [
    "Both groupings show that countries with smaller populations tend to have a higher GDP per Capita."
   ]
  },
  {
   "cell_type": "markdown",
   "metadata": {},
   "source": [
    "### 3.3. Next, we would like to know which countries have won the most medals. We will visualize this by calculating the mean number of medals won, and then plotting the countries that have won at least that many medals."
   ]
  },
  {
   "cell_type": "code",
   "execution_count": null,
   "metadata": {},
   "outputs": [],
   "source": [
    "medals_count = olympics.groupby('Country')['Medal'].count()\n",
    "#calculating mean number of medals per country\n",
    "pd.Series.mean(medals_count)"
   ]
  },
  {
   "cell_type": "code",
   "execution_count": null,
   "metadata": {},
   "outputs": [],
   "source": [
    "medals = olympics.groupby(['Country'],\n",
    "                          as_index = False).agg({'Medal': 'count'})\n",
    "#counting medals earned per country\n",
    "medals_df = medals[(medals.Medal > 235)]\n",
    "#filtering by countries that won more than mean number of medals\n",
    "plot1 = sns.catplot(x = 'Country',\n",
    "                    y = 'Medal',\n",
    "                    kind = 'bar',\n",
    "                    data = medals_df)\n",
    "plot1.set_xticklabels(rotation=45,\n",
    "                      ha=\"right\",\n",
    "                      fontsize = 8)\n",
    "#plotting a barchart of medals per country - we adjusted the labels\n",
    "#on the x-axis for readability"
   ]
  },
  {
   "cell_type": "markdown",
   "metadata": {},
   "source": [
    "While we have 26 countries that have won more than the average number of medals, it is clear the United States has won far and away the most.  In fact, it would be interesting to see how removing the United States from the calculation affects this visualization."
   ]
  },
  {
   "cell_type": "code",
   "execution_count": null,
   "metadata": {},
   "outputs": [],
   "source": [
    "medals_nous = olympics[(olympics.Country != 'United States')]\n",
    "#removing United States before we calculate mean medals won.\n",
    "medals_count_nous = medals_nous.groupby('Country')['Medal'].count()\n",
    "pd.Series.mean(medals_count_nous)\n",
    "#recalculating mean number of medals won per country"
   ]
  },
  {
   "cell_type": "code",
   "execution_count": null,
   "metadata": {},
   "outputs": [],
   "source": [
    "medals2 = medals_nous.groupby(['Country'], as_index = False).agg({'Medal': 'count'})\n",
    "#counting medals earned per country\n",
    "medals_df2 = medals2[(medals2.Medal > 196)]\n",
    "#filtering countries above new mean medal count\n",
    "plot2 = sns.catplot(x = 'Country',\n",
    "                    y = 'Medal',\n",
    "                    kind = 'bar',\n",
    "                    data = medals_df2)\n",
    "plot2.set_xticklabels(rotation=45,\n",
    "                      ha=\"right\",\n",
    "                      fontsize = 8)\n",
    "#plotting barchart of medals per country above new mean"
   ]
  },
  {
   "cell_type": "markdown",
   "metadata": {},
   "source": [
    "While removing the United States from the calculation obviously reduces the mean medals won by countries, it doesn't actually increase the number of countries that are above that mean.  Surprisingly, it decreased by 1 - the United States! This tells us that there is a very large gap between countries that win lots of medals and those that only win a few medals."
   ]
  },
  {
   "cell_type": "markdown",
   "metadata": {},
   "source": [
    "### 3.4. Finally, we want to look at the distribution of Medals by Gender as well as by Olympics Season."
   ]
  },
  {
   "cell_type": "code",
   "execution_count": null,
   "metadata": {},
   "outputs": [],
   "source": [
    "CountOfMedalsbygender = olympics.groupby(['Country',\n",
    "                                          'Gender', \n",
    "                                          'Medal']).agg({'Medal': 'count'})\n",
    "#count of medals by country, gender, type of medal\n",
    "CountOfMedalsbygender.head()"
   ]
  },
  {
   "cell_type": "code",
   "execution_count": null,
   "metadata": {},
   "outputs": [],
   "source": [
    "sns.displot(data = olympics,\n",
    "            x='Gender',\n",
    "            hue='Medal',\n",
    "            multiple='stack')\n",
    "#stacked barchart of medals by gender"
   ]
  },
  {
   "cell_type": "markdown",
   "metadata": {},
   "source": [
    "This visualization shows the stark difference in medals between men and women.  Women's sports haven't had the same representation in the Olympics as men's sports until recently, but this shows just how drastic the difference really is."
   ]
  },
  {
   "cell_type": "markdown",
   "metadata": {},
   "source": [
    "We also wanted to visualize the same distribution of medals but between the Summer and Winter games."
   ]
  },
  {
   "cell_type": "code",
   "execution_count": null,
   "metadata": {},
   "outputs": [],
   "source": [
    "CountOfMedalsbyYear = olympics.groupby(['Year',\n",
    "                                        'Games',\n",
    "                                        'Medal']).agg({'Medal': 'count'})\n",
    "#count of medals by year, games, and medal type\n",
    "CountOfMedalsbyYear.head()"
   ]
  },
  {
   "cell_type": "code",
   "execution_count": null,
   "metadata": {},
   "outputs": [],
   "source": [
    "sns.displot(data = olympics,\n",
    "            x='Games',\n",
    "            hue='Medal',\n",
    "            multiple='stack')\n",
    "#stacked barchart of Summer and Winter games' medals"
   ]
  },
  {
   "cell_type": "markdown",
   "metadata": {},
   "source": [
    "The disparity in medals between the two types of games can be explained by two reasons.  Summer games been around longer, and there are many more events involved in the Summer games than the Winter games."
   ]
  }
 ],
 "metadata": {
  "kernelspec": {
   "display_name": "Python 3",
   "language": "python",
   "name": "python3"
  },
  "language_info": {
   "codemirror_mode": {
    "name": "ipython",
    "version": 3
   },
   "file_extension": ".py",
   "mimetype": "text/x-python",
   "name": "python",
   "nbconvert_exporter": "python",
   "pygments_lexer": "ipython3",
   "version": "3.8.3"
  }
 },
 "nbformat": 4,
 "nbformat_minor": 4
}
